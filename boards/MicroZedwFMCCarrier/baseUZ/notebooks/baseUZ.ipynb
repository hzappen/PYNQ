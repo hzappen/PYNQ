{
 "cells": [
  {
   "cell_type": "markdown",
   "metadata": {},
   "source": [
    "# Programming onboard peripherals\n",
    "\n",
    "----\n",
    "\n",
    "## Contents\n",
    "\n",
    "* [LEDs, switches and buttons](#LEDs, switches and buttons)\n",
    "* [Controlling an LED](#Controlling an LED)\n",
    "* [Example: Controlling all the LEDs, and buttons](#Example: Controlling all the LEDs and buttons)\n",
    "\n",
    "----"
   ]
  },
  {
   "cell_type": "markdown",
   "metadata": {},
   "source": [
    "## LEDs and buttons\n",
    "The Microzed Carrier board has four blue LEDs (LD0-3) and 2 push-buttons (BTN1-2) that are connected to the Zynq’s programmable logic. \n"
   ]
  },
  {
   "cell_type": "markdown",
   "metadata": {},
   "source": [
    "Note that there are additional push-buttons and LEDs on the board, but these are used for specific functions (Power LED, PS reset button etc) and are not user accessible.\n",
    "\n",
    "The IO can be controlled directly from Python. To demonstrate this, we first import the LED, Switch and Button classes from the module pynq.board:"
   ]
  },
  {
   "cell_type": "code",
   "execution_count": 5,
   "metadata": {},
   "outputs": [],
   "source": [
    "from pynq.overlays.baseUZ import BaseUZOverlay\n",
    "base = BaseUZOverlay(\"baseUZ.bit\")"
   ]
  },
  {
   "cell_type": "code",
   "execution_count": 6,
   "metadata": {},
   "outputs": [
    {
     "name": "stdout",
     "output_type": "stream",
     "text": [
      "Help on BaseUZOverlay in module pynq.overlays.baseUZ.baseUZ object:\n",
      "\n",
      "class BaseUZOverlay(pynq.overlay.Overlay)\n",
      " |  The Aquantis overlay for the Microzed\n",
      " |  \n",
      " |  \n",
      " |  Attributes\n",
      " |  ----------\n",
      " |  iop1 : IOP\n",
      " |       IO processor connected to the PMODA interface\n",
      " |  iop2 : IOP\n",
      " |       IO processor connected to the PMODB interface\n",
      " |  trace_pmoda : pynq.logictools.TraceAnalyzer\n",
      " |      Trace analyzer block on PMODA interface, controlled by PS.\n",
      " |  trace_pmodb : pynq.logictools.TraceAnalyzer\n",
      " |      Trace analyzer block on PMODB interface, controlled by PS. . \n",
      " |  leds : AxiGPIO\n",
      " |       4-bit output GPIO for interacting with the green LEDs LD0-3\n",
      " |  buttons : AxiGPIO\n",
      " |       2-bit input GPIO for interacting with the buttons BTN0-3\n",
      " |  \n",
      " |  Method resolution order:\n",
      " |      BaseUZOverlay\n",
      " |      pynq.overlay.Overlay\n",
      " |      pynq.pl.Bitstream\n",
      " |      builtins.object\n",
      " |  \n",
      " |  Methods defined here:\n",
      " |  \n",
      " |  __init__(self, bitfile, **kwargs)\n",
      " |      Return a new Overlay object.\n",
      " |      \n",
      " |      An overlay instantiates a bitstream object as a member initially.\n",
      " |      \n",
      " |      Parameters\n",
      " |      ----------\n",
      " |      bitfile_name : str\n",
      " |          The bitstream name or absolute path as a string.\n",
      " |      download : boolean or None\n",
      " |          Whether the overlay should be downloaded. If None then the\n",
      " |          overlay will be downloaded if it isn't already loaded.\n",
      " |      \n",
      " |      Note\n",
      " |      ----\n",
      " |      This class requires a Vivado '.tcl' file to be next to bitstream file\n",
      " |      with same name (e.g. base.bit and base.tcl).\n",
      " |  \n",
      " |  ----------------------------------------------------------------------\n",
      " |  Methods inherited from pynq.overlay.Overlay:\n",
      " |  \n",
      " |  __dir__(self)\n",
      " |      __dir__() -> list\n",
      " |      default dir() implementation\n",
      " |  \n",
      " |  __getattr__(self, key)\n",
      " |      Overload of __getattr__ to return a driver for an IP or\n",
      " |      hierarchy. Throws an `RuntimeError` if the overlay is not loaded.\n",
      " |  \n",
      " |  download(self)\n",
      " |      The method to download a bitstream onto PL.\n",
      " |      \n",
      " |      Note\n",
      " |      ----\n",
      " |      After the bitstream has been downloaded, the \"timestamp\" in PL will be\n",
      " |      updated. In addition, all the dictionaries on PL will\n",
      " |      be reset automatically.\n",
      " |      \n",
      " |      Returns\n",
      " |      -------\n",
      " |      None\n",
      " |  \n",
      " |  is_loaded(self)\n",
      " |      This method checks whether a bitstream is loaded.\n",
      " |      \n",
      " |      This method returns true if the loaded PL bitstream is same\n",
      " |      as this Overlay's member bitstream.\n",
      " |      \n",
      " |      Returns\n",
      " |      -------\n",
      " |      bool\n",
      " |          True if bitstream is loaded.\n",
      " |  \n",
      " |  load_ip_data(self, ip_name, data)\n",
      " |      This method loads the data to the addressable IP.\n",
      " |      \n",
      " |      Calls the method in the super class to load the data. This method can\n",
      " |      be used to program the IP. For example, users can use this method to\n",
      " |      load the program to the Microblaze processors on PL.\n",
      " |      \n",
      " |      Note\n",
      " |      ----\n",
      " |      The data is assumed to be in binary format (.bin). The data name will\n",
      " |      be stored as a state information in the IP dictionary.\n",
      " |      \n",
      " |      Parameters\n",
      " |      ----------\n",
      " |      ip_name : str\n",
      " |          The name of the addressable IP.\n",
      " |      data : str\n",
      " |          The absolute path of the data to be loaded.\n",
      " |      \n",
      " |      Returns\n",
      " |      -------\n",
      " |      None\n",
      " |  \n",
      " |  reset(self)\n",
      " |      This function resets all the dictionaries kept in the overlay.\n",
      " |      \n",
      " |      This function should be used with caution.\n",
      " |      \n",
      " |      Returns\n",
      " |      -------\n",
      " |      None\n",
      " |  \n",
      " |  ----------------------------------------------------------------------\n",
      " |  Data descriptors inherited from pynq.pl.Bitstream:\n",
      " |  \n",
      " |  __dict__\n",
      " |      dictionary for instance variables (if defined)\n",
      " |  \n",
      " |  __weakref__\n",
      " |      list of weak references to the object (if defined)\n",
      "\n"
     ]
    }
   ],
   "source": [
    "#?aquantis\n",
    "from pprint import pprint\n",
    "\n",
    "help(base)"
   ]
  },
  {
   "cell_type": "code",
   "execution_count": 8,
   "metadata": {},
   "outputs": [
    {
     "name": "stdout",
     "output_type": "stream",
     "text": [
      "ip_dict\n",
      "{'axi_ad9467_0': {'addr_range': 536870912,\n",
      "                  'driver': <class 'pynq.overlay.DefaultIP'>,\n",
      "                  'fullpath': 'axi_ad9467_0',\n",
      "                  'gpio': {},\n",
      "                  'interrupts': {},\n",
      "                  'phys_addr': 1610612736,\n",
      "                  'state': None,\n",
      "                  'type': 'analog.com:user:axi_ad9467:1.0'},\n",
      " 'axi_dmac_0': {'addr_range': 65536,\n",
      "                'driver': <class 'pynq.overlay.DefaultIP'>,\n",
      "                'fullpath': 'axi_dmac_0',\n",
      "                'gpio': {},\n",
      "                'interrupts': {'irq': {'controller': 'axi_intc_0',\n",
      "                                       'fullpath': 'axi_dmac_0/irq',\n",
      "                                       'index': 0}},\n",
      "                'phys_addr': 1136787456,\n",
      "                'state': None,\n",
      "                'type': 'analog.com:user:axi_dmac:1.0'},\n",
      " 'axi_gpio_0_button': {'addr_range': 65536,\n",
      "                       'driver': <class 'pynq.lib.axigpio.AxiGPIO'>,\n",
      "                       'fullpath': 'axi_gpio_0_button',\n",
      "                       'gpio': {},\n",
      "                       'interrupts': {'ip2intc_irpt': {'controller': 'axi_intc_0',\n",
      "                                                       'fullpath': 'axi_gpio_0_button/ip2intc_irpt',\n",
      "                                                       'index': 1}},\n",
      "                       'phys_addr': 1092681728,\n",
      "                       'state': None,\n",
      "                       'type': 'xilinx.com:ip:axi_gpio:2.0'},\n",
      " 'axi_gpio_0_led': {'addr_range': 65536,\n",
      "                    'driver': <class 'pynq.lib.axigpio.AxiGPIO'>,\n",
      "                    'fullpath': 'axi_gpio_0_led',\n",
      "                    'gpio': {},\n",
      "                    'interrupts': {},\n",
      "                    'phys_addr': 1092616192,\n",
      "                    'state': None,\n",
      "                    'type': 'xilinx.com:ip:axi_gpio:2.0'},\n",
      " 'axi_iic_0': {'addr_range': 65536,\n",
      "               'driver': <class 'pynq.overlay.DefaultIP'>,\n",
      "               'fullpath': 'axi_iic_0',\n",
      "               'gpio': {},\n",
      "               'interrupts': {'iic2intc_irpt': {'controller': 'axi_intc_0',\n",
      "                                                'fullpath': 'axi_iic_0/iic2intc_irpt',\n",
      "                                                'index': 2}},\n",
      "               'phys_addr': 1096810496,\n",
      "               'state': None,\n",
      "               'type': 'xilinx.com:ip:axi_iic:2.0'},\n",
      " 'axi_intc_0': {'addr_range': 65536,\n",
      "                'driver': <class 'pynq.overlay.DefaultIP'>,\n",
      "                'fullpath': 'axi_intc_0',\n",
      "                'gpio': {},\n",
      "                'interrupts': {},\n",
      "                'phys_addr': 1098907648,\n",
      "                'state': None,\n",
      "                'type': 'xilinx.com:ip:axi_intc:4.1'}}\n",
      "ps gpio_dict\n",
      "{}\n",
      "intterupt_pins\n",
      "{'axi_dmac_0/irq': {'controller': 'axi_intc_0',\n",
      "                    'fullpath': 'axi_dmac_0/irq',\n",
      "                    'index': 0},\n",
      " 'axi_gpio_0_button/ip2intc_irpt': {'controller': 'axi_intc_0',\n",
      "                                    'fullpath': 'axi_gpio_0_button/ip2intc_irpt',\n",
      "                                    'index': 1},\n",
      " 'axi_iic_0/iic2intc_irpt': {'controller': 'axi_intc_0',\n",
      "                             'fullpath': 'axi_iic_0/iic2intc_irpt',\n",
      "                             'index': 2},\n",
      " 'xlconcat_0/In0': {'controller': 'axi_intc_0',\n",
      "                    'fullpath': 'xlconcat_0/In0',\n",
      "                    'index': 0},\n",
      " 'xlconcat_0/In1': {'controller': 'axi_intc_0',\n",
      "                    'fullpath': 'xlconcat_0/In1',\n",
      "                    'index': 1},\n",
      " 'xlconcat_0/In2': {'controller': 'axi_intc_0',\n",
      "                    'fullpath': 'xlconcat_0/In2',\n",
      "                    'index': 2}}\n",
      "interrupt_controllers\n",
      "{'axi_intc_0': {'index': 0, 'parent': ''}}\n"
     ]
    }
   ],
   "source": [
    "from pynq import GPIO\n",
    "#help(GPIO)\n",
    "from pynq import pl\n",
    "#help(pl)\n",
    "print(\"ip_dict\")\n",
    "pprint(base.ip_dict)\n",
    "print(\"ps gpio_dict\")\n",
    "pprint(base.gpio_dict)\n",
    "print(\"intterupt_pins\")\n",
    "pprint(base.interrupt_pins)\n",
    "print(\"interrupt_controllers\")\n",
    "pprint(base.interrupt_controllers)\n",
    "#help(x)"
   ]
  },
  {
   "cell_type": "markdown",
   "metadata": {},
   "source": [
    "## Controlling an LED\n",
    "Now we can create an instance of each of these classes and use their methods to manipulate them. Let’s start by instantiating a single LED and turning it on and off."
   ]
  },
  {
   "cell_type": "code",
   "execution_count": 9,
   "metadata": {
    "collapsed": true
   },
   "outputs": [],
   "source": [
    "from pynq.lib import LED, Button"
   ]
  },
  {
   "cell_type": "code",
   "execution_count": 10,
   "metadata": {
    "collapsed": true
   },
   "outputs": [],
   "source": [
    "led0 = LED(0)"
   ]
  },
  {
   "cell_type": "code",
   "execution_count": 11,
   "metadata": {
    "collapsed": true
   },
   "outputs": [],
   "source": [
    "led0.on()"
   ]
  },
  {
   "cell_type": "markdown",
   "metadata": {},
   "source": [
    "Check the board and confirm the LED is on."
   ]
  },
  {
   "cell_type": "code",
   "execution_count": 12,
   "metadata": {
    "collapsed": true
   },
   "outputs": [],
   "source": [
    "led0.off()"
   ]
  },
  {
   "cell_type": "markdown",
   "metadata": {},
   "source": [
    "Let’s then toggle _led0_ using the sleep() method from the _time_ package to see the LED flashing. "
   ]
  },
  {
   "cell_type": "code",
   "execution_count": 13,
   "metadata": {
    "collapsed": true
   },
   "outputs": [],
   "source": [
    "#from pynq.board import LED, Button\n",
    "import time\n",
    "led0 = LED(0)\n",
    "for i in range(20):\n",
    "    led0.toggle()\n",
    "    time.sleep(.1)"
   ]
  },
  {
   "cell_type": "code",
   "execution_count": null,
   "metadata": {
    "collapsed": true
   },
   "outputs": [],
   "source": []
  },
  {
   "cell_type": "markdown",
   "metadata": {},
   "source": [
    "## Example: Controlling all the LEDs  and buttons\n",
    "\n",
    "\n",
    "The example below creates 3 separate lists, called _leds_ and _buttons_."
   ]
  },
  {
   "cell_type": "code",
   "execution_count": 14,
   "metadata": {
    "collapsed": true
   },
   "outputs": [],
   "source": [
    "# Set the number of Switches\n",
    "MAX_LEDS =4\n",
    "MAX_BUTTONS = 2\n",
    "\n",
    "leds = [LED(index) for index in range(MAX_LEDS)]\n",
    "buttons = [Button(index) for index in range(MAX_BUTTONS)] \n",
    "\n",
    "\n",
    "\n",
    "\n",
    "# Create lists for each of the IO component groups\n",
    "for i in range(MAX_LEDS):\n",
    "    leds[i] = LED(i)              \n",
    "     \n",
    "for i in range(MAX_BUTTONS):\n",
    "    buttons[i] = Button(i) "
   ]
  },
  {
   "cell_type": "markdown",
   "metadata": {},
   "source": [
    "First, all LEDs are set to off. Then each switch is read, and if a switch is in the on position, the corresponding led is turned on. You can execute this cell a few times, changing the position of the switches on the board."
   ]
  },
  {
   "cell_type": "code",
   "execution_count": 15,
   "metadata": {
    "collapsed": true
   },
   "outputs": [],
   "source": [
    "# LEDs start in the off state\n",
    "for i in range(MAX_LEDS):\n",
    "    leds[i].off()\n",
    "\n"
   ]
  },
  {
   "cell_type": "markdown",
   "metadata": {},
   "source": [
    "The last part toggles the corresponding led (on or off) if a pushbutton is pressed. You can execute this cell a few times pressing different pushbuttons each time. "
   ]
  },
  {
   "cell_type": "code",
   "execution_count": 17,
   "metadata": {},
   "outputs": [],
   "source": [
    "# if a button is depressed, toggle the state of the corresponding LED\n",
    "for i in range(MAX_LEDS):\n",
    "    if buttons[i%2].read():\n",
    "        leds[i].toggle()"
   ]
  },
  {
   "cell_type": "markdown",
   "metadata": {},
   "source": [
    "We can do more with buttons cause an intterupt controller is attached. Let's wait till its pressed and released. As always we can check the help."
   ]
  },
  {
   "cell_type": "code",
   "execution_count": 18,
   "metadata": {},
   "outputs": [
    {
     "name": "stdout",
     "output_type": "stream",
     "text": [
      "Help on Button in module pynq.lib.button object:\n",
      "\n",
      "class Button(builtins.object)\n",
      " |  This class controls the onboard push-buttons.\n",
      " |  \n",
      " |  Attributes\n",
      " |  ----------\n",
      " |  index : int\n",
      " |      Index of the push-buttons, starting from 0.\n",
      " |  \n",
      " |  Methods defined here:\n",
      " |  \n",
      " |  __init__(self, index)\n",
      " |      Create a new Button object.\n",
      " |      \n",
      " |      Parameters\n",
      " |      ----------\n",
      " |      index : int\n",
      " |          The index of the push-buttons, from 0 to 1.\n",
      " |  \n",
      " |  read(self)\n",
      " |      Read the current value of the button.\n",
      " |      \n",
      " |      Returns\n",
      " |      -------\n",
      " |      int\n",
      " |          Either 1 if the button is pressed or 0 otherwise\n",
      " |  \n",
      " |  wait_for_value(self, value)\n",
      " |      Wait for the button to be pressed or released\n",
      " |      \n",
      " |      Parameters\n",
      " |      ----------\n",
      " |      value: int\n",
      " |          1 to wait for press or 0 to wait for release\n",
      " |      \n",
      " |      This function wraps the coroutine form so the asyncio\n",
      " |      event loop will run until the function returns\n",
      " |  \n",
      " |  wait_for_value_async(self, value)\n",
      " |      Wait for the button to be pressed or released\n",
      " |      \n",
      " |      Parameters\n",
      " |      ----------\n",
      " |      value: int\n",
      " |          1 to wait for press or 0 to wait for release\n",
      " |      \n",
      " |      This function is an asyncio coroutine\n",
      " |  \n",
      " |  ----------------------------------------------------------------------\n",
      " |  Data descriptors defined here:\n",
      " |  \n",
      " |  __dict__\n",
      " |      dictionary for instance variables (if defined)\n",
      " |  \n",
      " |  __weakref__\n",
      " |      list of weak references to the object (if defined)\n",
      "\n"
     ]
    }
   ],
   "source": [
    "help(buttons[0])"
   ]
  },
  {
   "cell_type": "code",
   "execution_count": 19,
   "metadata": {},
   "outputs": [
    {
     "name": "stdout",
     "output_type": "stream",
     "text": [
      "Button pressed\n",
      "Button released\n"
     ]
    }
   ],
   "source": [
    "buttons[0].wait_for_value(1)\n",
    "print(\"Button pressed\")\n",
    "buttons[0].wait_for_value(0)\n",
    "print(\"Button released\")"
   ]
  },
  {
   "cell_type": "markdown",
   "metadata": {},
   "source": [
    "## Next steps\n",
    "\n",
    "If you have time, write your own program to:\n",
    "1. Turn on/off a single LED when a button is pressed\n",
    "2. Shift the LED pattern when another button is pressed (the shift direction is determined by the value of the dip switch)\n",
    "3. Toggle/Flash the LEDs for 5 seconds when another button is pressed\n",
    "4. Change the delay between toggle when the last button is pressed. "
   ]
  },
  {
   "cell_type": "code",
   "execution_count": null,
   "metadata": {
    "collapsed": true
   },
   "outputs": [],
   "source": []
  }
 ],
 "metadata": {
  "celltoolbar": "Raw Cell Format",
  "kernelspec": {
   "display_name": "Python 3",
   "language": "python",
   "name": "python3"
  },
  "language_info": {
   "codemirror_mode": {
    "name": "ipython",
    "version": 3
   },
   "file_extension": ".py",
   "mimetype": "text/x-python",
   "name": "python",
   "nbconvert_exporter": "python",
   "pygments_lexer": "ipython3",
   "version": "3.6.0"
  }
 },
 "nbformat": 4,
 "nbformat_minor": 1
}
